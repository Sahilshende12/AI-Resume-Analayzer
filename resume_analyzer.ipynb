{
 "cells": [
  {
   "cell_type": "markdown",
   "metadata": {},
   "source": [
    "## Get The text from the PDF"
   ]
  },
  {
   "cell_type": "code",
   "execution_count": 19,
   "metadata": {},
   "outputs": [
    {
     "name": "stdout",
     "output_type": "stream",
     "text": [
      "Requirement already satisfied: pdfplumber in /Users/sahilshende/.pyenv/versions/3.10.12/lib/python3.10/site-packages (0.11.4)\n",
      "Requirement already satisfied: pytesseract in /Users/sahilshende/.pyenv/versions/3.10.12/lib/python3.10/site-packages (0.3.13)\n",
      "Requirement already satisfied: pdf2image in /Users/sahilshende/.pyenv/versions/3.10.12/lib/python3.10/site-packages (1.17.0)\n",
      "Requirement already satisfied: pdfminer.six==20231228 in /Users/sahilshende/.pyenv/versions/3.10.12/lib/python3.10/site-packages (from pdfplumber) (20231228)\n",
      "Requirement already satisfied: pypdfium2>=4.18.0 in /Users/sahilshende/.pyenv/versions/3.10.12/lib/python3.10/site-packages (from pdfplumber) (4.30.1)\n",
      "Requirement already satisfied: Pillow>=9.1 in /Users/sahilshende/.pyenv/versions/3.10.12/lib/python3.10/site-packages (from pdfplumber) (10.4.0)\n",
      "Requirement already satisfied: cryptography>=36.0.0 in /Users/sahilshende/.pyenv/versions/3.10.12/lib/python3.10/site-packages (from pdfminer.six==20231228->pdfplumber) (44.0.2)\n",
      "Requirement already satisfied: charset-normalizer>=2.0.0 in /Users/sahilshende/.pyenv/versions/3.10.12/lib/python3.10/site-packages (from pdfminer.six==20231228->pdfplumber) (3.4.1)\n",
      "Requirement already satisfied: packaging>=21.3 in /Users/sahilshende/.pyenv/versions/3.10.12/lib/python3.10/site-packages (from pytesseract) (23.2)\n",
      "Requirement already satisfied: cffi>=1.12 in /Users/sahilshende/.pyenv/versions/3.10.12/lib/python3.10/site-packages (from cryptography>=36.0.0->pdfminer.six==20231228->pdfplumber) (1.17.1)\n",
      "Requirement already satisfied: pycparser in /Users/sahilshende/.pyenv/versions/3.10.12/lib/python3.10/site-packages (from cffi>=1.12->cryptography>=36.0.0->pdfminer.six==20231228->pdfplumber) (2.22)\n",
      "\n",
      "\u001b[1m[\u001b[0m\u001b[34;49mnotice\u001b[0m\u001b[1;39;49m]\u001b[0m\u001b[39;49m A new release of pip is available: \u001b[0m\u001b[31;49m23.0.1\u001b[0m\u001b[39;49m -> \u001b[0m\u001b[32;49m25.0.1\u001b[0m\n",
      "\u001b[1m[\u001b[0m\u001b[34;49mnotice\u001b[0m\u001b[1;39;49m]\u001b[0m\u001b[39;49m To update, run: \u001b[0m\u001b[32;49mpip install --upgrade pip\u001b[0m\n",
      "Note: you may need to restart the kernel to use updated packages.\n"
     ]
    }
   ],
   "source": [
    "%pip install pdfplumber pytesseract pdf2image"
   ]
  },
  {
   "cell_type": "code",
   "execution_count": 20,
   "metadata": {},
   "outputs": [],
   "source": [
    "import pdfplumber\n",
    "import pytesseract\n",
    "from pdf2image import convert_from_path"
   ]
  },
  {
   "cell_type": "code",
   "execution_count": 21,
   "metadata": {},
   "outputs": [],
   "source": [
    "def extract_text_from_pdf(Sahil_resume):\n",
    "    text = \"\"\n",
    "    try:\n",
    "        # Try direct text extraction\n",
    "        with pdfplumber.open(Sahil_resume) as pdf:\n",
    "            for page in pdf.pages:\n",
    "                page_text = page.extract_text()\n",
    "                if page_text:\n",
    "                    text += page_text\n",
    "\n",
    "        if text.strip():\n",
    "            return text.strip()\n",
    "    except Exception as e:\n",
    "        print(f\"Direct text extraction failed: {e}\")\n",
    "\n",
    "    # Fallback to OCR for image-based PDFs\n",
    "    print(\"Falling back to OCR for image-based PDF.\")\n",
    "    try:\n",
    "        images = convert_from_path(Sahil_resume)\n",
    "        for image in images:\n",
    "            page_text = pytesseract.image_to_string(image)\n",
    "            text += page_text + \"\\n\"\n",
    "    except Exception as e:\n",
    "        print(f\"OCR failed: {e}\")\n",
    "\n",
    "    return text.strip()"
   ]
  },
  {
   "cell_type": "code",
   "execution_count": 22,
   "metadata": {},
   "outputs": [
    {
     "name": "stdout",
     "output_type": "stream",
     "text": [
      "Direct text extraction failed: [Errno 2] No such file or directory: 'Sahil_resumef'\n",
      "Falling back to OCR for image-based PDF.\n",
      "OCR failed: Unable to get page count. Is poppler installed and in PATH?\n",
      "\n",
      "Extracted Text from PDF:\n",
      "\n"
     ]
    }
   ],
   "source": [
    "pdf_path = \"Sahil_resumef\"\n",
    "resume_text = extract_text_from_pdf(pdf_path)\n",
    "\n",
    "print(\"\\nExtracted Text from PDF:\")\n",
    "print(resume_text)"
   ]
  },
  {
   "cell_type": "markdown",
   "metadata": {},
   "source": [
    "## Set Google GenerativeAI Api Key"
   ]
  },
  {
   "cell_type": "code",
   "execution_count": 23,
   "metadata": {},
   "outputs": [
    {
     "name": "stdout",
     "output_type": "stream",
     "text": [
      "Requirement already satisfied: google.generativeai in /Users/sahilshende/.pyenv/versions/3.10.12/lib/python3.10/site-packages (0.8.4)\n",
      "Requirement already satisfied: python-dotenv in /Users/sahilshende/.pyenv/versions/3.10.12/lib/python3.10/site-packages (1.0.1)\n",
      "Requirement already satisfied: pydantic in /Users/sahilshende/.pyenv/versions/3.10.12/lib/python3.10/site-packages (from google.generativeai) (2.10.6)\n",
      "Requirement already satisfied: google-api-core in /Users/sahilshende/.pyenv/versions/3.10.12/lib/python3.10/site-packages (from google.generativeai) (2.24.2)\n",
      "Requirement already satisfied: protobuf in /Users/sahilshende/.pyenv/versions/3.10.12/lib/python3.10/site-packages (from google.generativeai) (4.25.6)\n",
      "Requirement already satisfied: tqdm in /Users/sahilshende/.pyenv/versions/3.10.12/lib/python3.10/site-packages (from google.generativeai) (4.67.1)\n",
      "Requirement already satisfied: typing-extensions in /Users/sahilshende/.pyenv/versions/3.10.12/lib/python3.10/site-packages (from google.generativeai) (4.12.2)\n",
      "Requirement already satisfied: google-api-python-client in /Users/sahilshende/.pyenv/versions/3.10.12/lib/python3.10/site-packages (from google.generativeai) (2.165.0)\n",
      "Requirement already satisfied: google-ai-generativelanguage==0.6.15 in /Users/sahilshende/.pyenv/versions/3.10.12/lib/python3.10/site-packages (from google.generativeai) (0.6.15)\n",
      "Requirement already satisfied: google-auth>=2.15.0 in /Users/sahilshende/.pyenv/versions/3.10.12/lib/python3.10/site-packages (from google.generativeai) (2.38.0)\n",
      "Requirement already satisfied: proto-plus<2.0.0dev,>=1.22.3 in /Users/sahilshende/.pyenv/versions/3.10.12/lib/python3.10/site-packages (from google-ai-generativelanguage==0.6.15->google.generativeai) (1.26.1)\n",
      "Requirement already satisfied: pyasn1-modules>=0.2.1 in /Users/sahilshende/.pyenv/versions/3.10.12/lib/python3.10/site-packages (from google-auth>=2.15.0->google.generativeai) (0.4.1)\n",
      "Requirement already satisfied: cachetools<6.0,>=2.0.0 in /Users/sahilshende/.pyenv/versions/3.10.12/lib/python3.10/site-packages (from google-auth>=2.15.0->google.generativeai) (5.5.2)\n",
      "Requirement already satisfied: rsa<5,>=3.1.4 in /Users/sahilshende/.pyenv/versions/3.10.12/lib/python3.10/site-packages (from google-auth>=2.15.0->google.generativeai) (4.9)\n",
      "Requirement already satisfied: requests<3.0.0,>=2.18.0 in /Users/sahilshende/.pyenv/versions/3.10.12/lib/python3.10/site-packages (from google-api-core->google.generativeai) (2.32.3)\n",
      "Requirement already satisfied: googleapis-common-protos<2.0.0,>=1.56.2 in /Users/sahilshende/.pyenv/versions/3.10.12/lib/python3.10/site-packages (from google-api-core->google.generativeai) (1.69.2)\n",
      "Requirement already satisfied: google-auth-httplib2<1.0.0,>=0.2.0 in /Users/sahilshende/.pyenv/versions/3.10.12/lib/python3.10/site-packages (from google-api-python-client->google.generativeai) (0.2.0)\n",
      "Requirement already satisfied: httplib2<1.0.0,>=0.19.0 in /Users/sahilshende/.pyenv/versions/3.10.12/lib/python3.10/site-packages (from google-api-python-client->google.generativeai) (0.22.0)\n",
      "Requirement already satisfied: uritemplate<5,>=3.0.1 in /Users/sahilshende/.pyenv/versions/3.10.12/lib/python3.10/site-packages (from google-api-python-client->google.generativeai) (4.1.1)\n",
      "Requirement already satisfied: annotated-types>=0.6.0 in /Users/sahilshende/.pyenv/versions/3.10.12/lib/python3.10/site-packages (from pydantic->google.generativeai) (0.7.0)\n",
      "Requirement already satisfied: pydantic-core==2.27.2 in /Users/sahilshende/.pyenv/versions/3.10.12/lib/python3.10/site-packages (from pydantic->google.generativeai) (2.27.2)\n",
      "Requirement already satisfied: grpcio<2.0dev,>=1.33.2 in /Users/sahilshende/.pyenv/versions/3.10.12/lib/python3.10/site-packages (from google-api-core->google.generativeai) (1.71.0)\n",
      "Requirement already satisfied: grpcio-status<2.0.dev0,>=1.33.2 in /Users/sahilshende/.pyenv/versions/3.10.12/lib/python3.10/site-packages (from google-api-core->google.generativeai) (1.62.3)\n",
      "Requirement already satisfied: pyparsing!=3.0.0,!=3.0.1,!=3.0.2,!=3.0.3,<4,>=2.4.2 in /Users/sahilshende/.pyenv/versions/3.10.12/lib/python3.10/site-packages (from httplib2<1.0.0,>=0.19.0->google-api-python-client->google.generativeai) (3.2.2)\n",
      "Requirement already satisfied: pyasn1<0.7.0,>=0.4.6 in /Users/sahilshende/.pyenv/versions/3.10.12/lib/python3.10/site-packages (from pyasn1-modules>=0.2.1->google-auth>=2.15.0->google.generativeai) (0.6.1)\n",
      "Requirement already satisfied: urllib3<3,>=1.21.1 in /Users/sahilshende/.pyenv/versions/3.10.12/lib/python3.10/site-packages (from requests<3.0.0,>=2.18.0->google-api-core->google.generativeai) (2.3.0)\n",
      "Requirement already satisfied: certifi>=2017.4.17 in /Users/sahilshende/.pyenv/versions/3.10.12/lib/python3.10/site-packages (from requests<3.0.0,>=2.18.0->google-api-core->google.generativeai) (2021.10.8)\n",
      "Requirement already satisfied: charset-normalizer<4,>=2 in /Users/sahilshende/.pyenv/versions/3.10.12/lib/python3.10/site-packages (from requests<3.0.0,>=2.18.0->google-api-core->google.generativeai) (3.4.1)\n",
      "Requirement already satisfied: idna<4,>=2.5 in /Users/sahilshende/.pyenv/versions/3.10.12/lib/python3.10/site-packages (from requests<3.0.0,>=2.18.0->google-api-core->google.generativeai) (3.10)\n",
      "\n",
      "\u001b[1m[\u001b[0m\u001b[34;49mnotice\u001b[0m\u001b[1;39;49m]\u001b[0m\u001b[39;49m A new release of pip is available: \u001b[0m\u001b[31;49m23.0.1\u001b[0m\u001b[39;49m -> \u001b[0m\u001b[32;49m25.0.1\u001b[0m\n",
      "\u001b[1m[\u001b[0m\u001b[34;49mnotice\u001b[0m\u001b[1;39;49m]\u001b[0m\u001b[39;49m To update, run: \u001b[0m\u001b[32;49mpip install --upgrade pip\u001b[0m\n",
      "Note: you may need to restart the kernel to use updated packages.\n"
     ]
    }
   ],
   "source": [
    "%pip install google.generativeai python-dotenv"
   ]
  },
  {
   "cell_type": "code",
   "execution_count": 24,
   "metadata": {},
   "outputs": [],
   "source": [
    "# import google.generativeai as genai\n",
    "# import os\n",
    "# from dotenv import load_dotenv\n",
    "\n",
    "# load_dotenv()\n",
    "# genai.configure(api_key=os.getenv(\"GOOGLE_API_KEY\"))\n",
    "# model = genai.GenerativeModel(\"gemini-1.5-flash\")\n",
    "\n",
    "import google.generativeai as genai\n",
    "import os\n",
    "from dotenv import load_dotenv\n",
    "\n",
    "load_dotenv()  # Load environment variables from .env file\n",
    "api_key = os.getenv(\"GOOGLE_API_KEY\")\n",
    "if not api_key:\n",
    "    raise ValueError(\"API key not found. Please check your .env file.\")\n",
    "\n",
    "genai.configure(api_key=api_key)  # Set the API key for the client\n",
    "model = genai.GenerativeModel(\"gemini-1.5-flash\")\n",
    "\n"
   ]
  },
  {
   "cell_type": "code",
   "execution_count": 25,
   "metadata": {},
   "outputs": [],
   "source": [
    "response = model.generate_content(\"What is the capital of India?\")\n"
   ]
  },
  {
   "cell_type": "code",
   "execution_count": 26,
   "metadata": {},
   "outputs": [
    {
     "name": "stdout",
     "output_type": "stream",
     "text": [
      "response:\n",
      "GenerateContentResponse(\n",
      "    done=True,\n",
      "    iterator=None,\n",
      "    result=protos.GenerateContentResponse({\n",
      "      \"candidates\": [\n",
      "        {\n",
      "          \"content\": {\n",
      "            \"parts\": [\n",
      "              {\n",
      "                \"text\": \"The capital of India is **New Delhi**.\\n\"\n",
      "              }\n",
      "            ],\n",
      "            \"role\": \"model\"\n",
      "          },\n",
      "          \"finish_reason\": \"STOP\",\n",
      "          \"avg_logprobs\": -0.002600635588169098\n",
      "        }\n",
      "      ],\n",
      "      \"usage_metadata\": {\n",
      "        \"prompt_token_count\": 7,\n",
      "        \"candidates_token_count\": 10,\n",
      "        \"total_token_count\": 17\n",
      "      },\n",
      "      \"model_version\": \"gemini-1.5-flash\"\n",
      "    }),\n",
      ")\n"
     ]
    }
   ],
   "source": [
    "print(response)"
   ]
  },
  {
   "cell_type": "code",
   "execution_count": 27,
   "metadata": {},
   "outputs": [
    {
     "name": "stdout",
     "output_type": "stream",
     "text": [
      "The capital of India is **New Delhi**.\n",
      "\n"
     ]
    }
   ],
   "source": [
    "print(response.text)"
   ]
  },
  {
   "cell_type": "markdown",
   "metadata": {},
   "source": [
    "## Resume Analysis"
   ]
  },
  {
   "cell_type": "code",
   "execution_count": 28,
   "metadata": {},
   "outputs": [],
   "source": [
    "def analyze_resume(resume_text, job_description=None  ):\n",
    "    if not resume_text:\n",
    "        return {\"error\": \"Resume text is required for analysis.\"}\n",
    "    \n",
    "    model = genai.GenerativeModel(\"gemini-1.5-flash\")\n",
    "    \n",
    "    base_prompt = f\"\"\"\n",
    "    You are an experienced HR with Technical Experience in the field of any one job role from Data Science, Data Analyst, DevOPS, Machine Learning Engineer, Prompt Engineer, AI Engineer, Full Stack Web Development, Big Data Engineering, Marketing Analyst, Human Resource Manager, Software Developer your task is to review the provided resume.\n",
    "    Please share your professional evaluation on whether the candidate's profile aligns with the role.ALso mention Skills he already have and siggest some skills to imorve his resume , alos suggest some course he might take to improve the skills.Highlight the strengths and weaknesses.\n",
    "\n",
    "    Resume:\n",
    "    {resume_text}\n",
    "    \"\"\"\n",
    "\n",
    "    if job_description:\n",
    "        base_prompt += f\"\"\"\n",
    "        Additionally, compare this resume to the following job description:\n",
    "        \n",
    "        Job Description:\n",
    "        {job_description}\n",
    "        \n",
    "        Highlight the strengths and weaknesses of the applicant in relation to the specified job requirements.\n",
    "        Hey Act Like a skilled or very experience ATS(Application Tracking System)\n",
    "        with a deep understanding of tech field,software engineering,data science ,data analyst\n",
    "        and big data engineer. Your task is to evaluate the resume based on the given job description.\n",
    "        You must consider the job market is very competitive and you should provide \n",
    "        best assistance for improving thr resumes. Assign the percentage Matching based \n",
    "        on Jd and\n",
    "        the missing keywords with high accuracy\n",
    "        \n",
    "        {{\"JD Match\":\"%\"\\n,\"MissingKeywords:[]\"\\n,\"Profile Summary\":\"\"}}\n",
    "        \"\"\"\n",
    "\n",
    "    response = model.generate_content(base_prompt)\n",
    "\n",
    "    analysis = response.text.strip()\n",
    "    return analysis"
   ]
  },
  {
   "cell_type": "code",
   "execution_count": 30,
   "metadata": {},
   "outputs": [
    {
     "name": "stdout",
     "output_type": "stream",
     "text": [
      "{'error': 'Resume text is required for analysis.'}\n"
     ]
    }
   ],
   "source": [
    "print(analyze_resume(resume_text))\n"
   ]
  }
 ],
 "metadata": {
  "kernelspec": {
   "display_name": "Python 3",
   "language": "python",
   "name": "python3"
  },
  "language_info": {
   "codemirror_mode": {
    "name": "ipython",
    "version": 3
   },
   "file_extension": ".py",
   "mimetype": "text/x-python",
   "name": "python",
   "nbconvert_exporter": "python",
   "pygments_lexer": "ipython3",
   "version": "3.10.12"
  }
 },
 "nbformat": 4,
 "nbformat_minor": 2
}
